{
 "cells": [
  {
   "cell_type": "markdown",
   "metadata": {},
   "source": [
    "Header Packages"
   ]
  },
  {
   "cell_type": "code",
   "execution_count": 1,
   "metadata": {},
   "outputs": [],
   "source": [
    "import pandas as pd\n",
    "import numpy as np\n",
    "\n"
   ]
  },
  {
   "cell_type": "markdown",
   "metadata": {},
   "source": [
    "Load Dataset"
   ]
  },
  {
   "cell_type": "code",
   "execution_count": 2,
   "metadata": {},
   "outputs": [
    {
     "name": "stdout",
     "output_type": "stream",
     "text": [
      "   Age        BMI  Glucose  Insulin      HOMA   Leptin  Adiponectin  Resistin  \\\n",
      "0   48  23.500000       70    2.707  0.467409   8.8071     9.702400   7.99585   \n",
      "1   83  20.690495       92    3.115  0.706897   8.8438     5.429285   4.06405   \n",
      "2   82  23.124670       91    4.498  1.009651  17.9393    22.432040   9.27715   \n",
      "3   68  21.367521       77    3.226  0.612725   9.8827     7.169560  12.76600   \n",
      "4   86  21.111111       92    3.549  0.805386   6.6994     4.819240  10.57635   \n",
      "\n",
      "     MCP.1 Classification  \n",
      "0  417.114              1  \n",
      "1  468.786              1  \n",
      "2  554.697              1  \n",
      "3  928.220              1  \n",
      "4  773.920              1  \n"
     ]
    }
   ],
   "source": [
    "data1 = pd.read_csv('/home/sitrc/Desktop/T400610320/a/data.csv')\n",
    "\n",
    "print(data1.head())"
   ]
  },
  {
   "cell_type": "markdown",
   "metadata": {},
   "source": [
    "First Five entries"
   ]
  },
  {
   "cell_type": "code",
   "execution_count": 3,
   "metadata": {},
   "outputs": [
    {
     "data": {
      "text/html": [
       "<div>\n",
       "<style scoped>\n",
       "    .dataframe tbody tr th:only-of-type {\n",
       "        vertical-align: middle;\n",
       "    }\n",
       "\n",
       "    .dataframe tbody tr th {\n",
       "        vertical-align: top;\n",
       "    }\n",
       "\n",
       "    .dataframe thead th {\n",
       "        text-align: right;\n",
       "    }\n",
       "</style>\n",
       "<table border=\"1\" class=\"dataframe\">\n",
       "  <thead>\n",
       "    <tr style=\"text-align: right;\">\n",
       "      <th></th>\n",
       "      <th>Age</th>\n",
       "      <th>BMI</th>\n",
       "      <th>Glucose</th>\n",
       "      <th>Insulin</th>\n",
       "      <th>HOMA</th>\n",
       "      <th>Leptin</th>\n",
       "      <th>Adiponectin</th>\n",
       "      <th>Resistin</th>\n",
       "      <th>MCP.1</th>\n",
       "      <th>Classification</th>\n",
       "    </tr>\n",
       "  </thead>\n",
       "  <tbody>\n",
       "    <tr>\n",
       "      <th>0</th>\n",
       "      <td>48</td>\n",
       "      <td>23.500000</td>\n",
       "      <td>70</td>\n",
       "      <td>2.707</td>\n",
       "      <td>0.467409</td>\n",
       "      <td>8.8071</td>\n",
       "      <td>9.702400</td>\n",
       "      <td>7.99585</td>\n",
       "      <td>417.114</td>\n",
       "      <td>1</td>\n",
       "    </tr>\n",
       "    <tr>\n",
       "      <th>1</th>\n",
       "      <td>83</td>\n",
       "      <td>20.690495</td>\n",
       "      <td>92</td>\n",
       "      <td>3.115</td>\n",
       "      <td>0.706897</td>\n",
       "      <td>8.8438</td>\n",
       "      <td>5.429285</td>\n",
       "      <td>4.06405</td>\n",
       "      <td>468.786</td>\n",
       "      <td>1</td>\n",
       "    </tr>\n",
       "    <tr>\n",
       "      <th>2</th>\n",
       "      <td>82</td>\n",
       "      <td>23.124670</td>\n",
       "      <td>91</td>\n",
       "      <td>4.498</td>\n",
       "      <td>1.009651</td>\n",
       "      <td>17.9393</td>\n",
       "      <td>22.432040</td>\n",
       "      <td>9.27715</td>\n",
       "      <td>554.697</td>\n",
       "      <td>1</td>\n",
       "    </tr>\n",
       "    <tr>\n",
       "      <th>3</th>\n",
       "      <td>68</td>\n",
       "      <td>21.367521</td>\n",
       "      <td>77</td>\n",
       "      <td>3.226</td>\n",
       "      <td>0.612725</td>\n",
       "      <td>9.8827</td>\n",
       "      <td>7.169560</td>\n",
       "      <td>12.76600</td>\n",
       "      <td>928.220</td>\n",
       "      <td>1</td>\n",
       "    </tr>\n",
       "    <tr>\n",
       "      <th>4</th>\n",
       "      <td>86</td>\n",
       "      <td>21.111111</td>\n",
       "      <td>92</td>\n",
       "      <td>3.549</td>\n",
       "      <td>0.805386</td>\n",
       "      <td>6.6994</td>\n",
       "      <td>4.819240</td>\n",
       "      <td>10.57635</td>\n",
       "      <td>773.920</td>\n",
       "      <td>1</td>\n",
       "    </tr>\n",
       "  </tbody>\n",
       "</table>\n",
       "</div>"
      ],
      "text/plain": [
       "   Age        BMI  Glucose  Insulin      HOMA   Leptin  Adiponectin  Resistin  \\\n",
       "0   48  23.500000       70    2.707  0.467409   8.8071     9.702400   7.99585   \n",
       "1   83  20.690495       92    3.115  0.706897   8.8438     5.429285   4.06405   \n",
       "2   82  23.124670       91    4.498  1.009651  17.9393    22.432040   9.27715   \n",
       "3   68  21.367521       77    3.226  0.612725   9.8827     7.169560  12.76600   \n",
       "4   86  21.111111       92    3.549  0.805386   6.6994     4.819240  10.57635   \n",
       "\n",
       "     MCP.1 Classification  \n",
       "0  417.114              1  \n",
       "1  468.786              1  \n",
       "2  554.697              1  \n",
       "3  928.220              1  \n",
       "4  773.920              1  "
      ]
     },
     "execution_count": 3,
     "metadata": {},
     "output_type": "execute_result"
    }
   ],
   "source": [
    "data1.head()"
   ]
  },
  {
   "cell_type": "markdown",
   "metadata": {},
   "source": [
    "Last Five Entries"
   ]
  },
  {
   "cell_type": "code",
   "execution_count": 4,
   "metadata": {},
   "outputs": [
    {
     "data": {
      "text/html": [
       "<div>\n",
       "<style scoped>\n",
       "    .dataframe tbody tr th:only-of-type {\n",
       "        vertical-align: middle;\n",
       "    }\n",
       "\n",
       "    .dataframe tbody tr th {\n",
       "        vertical-align: top;\n",
       "    }\n",
       "\n",
       "    .dataframe thead th {\n",
       "        text-align: right;\n",
       "    }\n",
       "</style>\n",
       "<table border=\"1\" class=\"dataframe\">\n",
       "  <thead>\n",
       "    <tr style=\"text-align: right;\">\n",
       "      <th></th>\n",
       "      <th>Age</th>\n",
       "      <th>BMI</th>\n",
       "      <th>Glucose</th>\n",
       "      <th>Insulin</th>\n",
       "      <th>HOMA</th>\n",
       "      <th>Leptin</th>\n",
       "      <th>Adiponectin</th>\n",
       "      <th>Resistin</th>\n",
       "      <th>MCP.1</th>\n",
       "      <th>Classification</th>\n",
       "    </tr>\n",
       "  </thead>\n",
       "  <tbody>\n",
       "    <tr>\n",
       "      <th>94</th>\n",
       "      <td>60</td>\n",
       "      <td>31.231410</td>\n",
       "      <td>131</td>\n",
       "      <td>30.130</td>\n",
       "      <td>9.736007</td>\n",
       "      <td>37.8430</td>\n",
       "      <td>8.40443</td>\n",
       "      <td>11.50005</td>\n",
       "      <td>396.021</td>\n",
       "      <td>2</td>\n",
       "    </tr>\n",
       "    <tr>\n",
       "      <th>95</th>\n",
       "      <td>49</td>\n",
       "      <td>29.777778</td>\n",
       "      <td>70</td>\n",
       "      <td>8.396</td>\n",
       "      <td>1.449709</td>\n",
       "      <td>51.3387</td>\n",
       "      <td>10.73174</td>\n",
       "      <td>20.76801</td>\n",
       "      <td>602.486</td>\n",
       "      <td>2</td>\n",
       "    </tr>\n",
       "    <tr>\n",
       "      <th>96</th>\n",
       "      <td>44</td>\n",
       "      <td>27.887617</td>\n",
       "      <td>99</td>\n",
       "      <td>9.208</td>\n",
       "      <td>2.248594</td>\n",
       "      <td>12.6757</td>\n",
       "      <td>5.47817</td>\n",
       "      <td>23.03306</td>\n",
       "      <td>407.206</td>\n",
       "      <td>2</td>\n",
       "    </tr>\n",
       "    <tr>\n",
       "      <th>97</th>\n",
       "      <td>40</td>\n",
       "      <td>27.636054</td>\n",
       "      <td>103</td>\n",
       "      <td>2.432</td>\n",
       "      <td>0.617890</td>\n",
       "      <td>14.3224</td>\n",
       "      <td>6.78387</td>\n",
       "      <td>26.01360</td>\n",
       "      <td>293.123</td>\n",
       "      <td>2</td>\n",
       "    </tr>\n",
       "    <tr>\n",
       "      <th>98</th>\n",
       "      <td>71</td>\n",
       "      <td>27.915519</td>\n",
       "      <td>104</td>\n",
       "      <td>18.200</td>\n",
       "      <td>4.668907</td>\n",
       "      <td>53.4997</td>\n",
       "      <td>1.65602</td>\n",
       "      <td>49.24184</td>\n",
       "      <td>256.001</td>\n",
       "      <td>2</td>\n",
       "    </tr>\n",
       "  </tbody>\n",
       "</table>\n",
       "</div>"
      ],
      "text/plain": [
       "    Age        BMI  Glucose  Insulin      HOMA   Leptin  Adiponectin  \\\n",
       "94   60  31.231410      131   30.130  9.736007  37.8430      8.40443   \n",
       "95   49  29.777778       70    8.396  1.449709  51.3387     10.73174   \n",
       "96   44  27.887617       99    9.208  2.248594  12.6757      5.47817   \n",
       "97   40  27.636054      103    2.432  0.617890  14.3224      6.78387   \n",
       "98   71  27.915519      104   18.200  4.668907  53.4997      1.65602   \n",
       "\n",
       "    Resistin    MCP.1 Classification  \n",
       "94  11.50005  396.021              2  \n",
       "95  20.76801  602.486              2  \n",
       "96  23.03306  407.206              2  \n",
       "97  26.01360  293.123              2  \n",
       "98  49.24184  256.001              2  "
      ]
     },
     "execution_count": 4,
     "metadata": {},
     "output_type": "execute_result"
    }
   ],
   "source": [
    "data1.tail()"
   ]
  },
  {
   "cell_type": "markdown",
   "metadata": {},
   "source": [
    "Load the Dataset into a Pandas DataFrame"
   ]
  },
  {
   "cell_type": "code",
   "execution_count": 5,
   "metadata": {},
   "outputs": [
    {
     "name": "stdout",
     "output_type": "stream",
     "text": [
      "Missing Values:\n",
      " Age               0\n",
      "BMI               3\n",
      "Glucose           0\n",
      "Insulin           0\n",
      "HOMA              0\n",
      "Leptin            0\n",
      "Adiponectin       0\n",
      "Resistin          0\n",
      "MCP.1             0\n",
      "Classification    0\n",
      "dtype: int64\n"
     ]
    }
   ],
   "source": [
    "\n",
    "missing_values = data1.isnull().sum()\n",
    "print(\"Missing Values:\\n\", missing_values)\n"
   ]
  },
  {
   "cell_type": "markdown",
   "metadata": {},
   "source": [
    "Data Preprocessing\n"
   ]
  },
  {
   "cell_type": "markdown",
   "metadata": {},
   "source": [
    "Check for Missing Values"
   ]
  },
  {
   "cell_type": "code",
   "execution_count": 6,
   "metadata": {},
   "outputs": [
    {
     "name": "stdout",
     "output_type": "stream",
     "text": [
      "Missing Values:\n",
      " Age               0\n",
      "BMI               3\n",
      "Glucose           0\n",
      "Insulin           0\n",
      "HOMA              0\n",
      "Leptin            0\n",
      "Adiponectin       0\n",
      "Resistin          0\n",
      "MCP.1             0\n",
      "Classification    0\n",
      "dtype: int64\n"
     ]
    }
   ],
   "source": [
    "missing_values = data1.isnull().sum()\n",
    "print(\"Missing Values:\\n\", missing_values)\n"
   ]
  },
  {
   "cell_type": "markdown",
   "metadata": {},
   "source": [
    "Describe the Dataset"
   ]
  },
  {
   "cell_type": "code",
   "execution_count": 7,
   "metadata": {},
   "outputs": [
    {
     "name": "stdout",
     "output_type": "stream",
     "text": [
      "             Age        BMI     Glucose    Insulin       HOMA     Leptin  \\\n",
      "count  99.000000  96.000000   99.000000  99.000000  99.000000  99.000000   \n",
      "mean   56.090909  26.817354   96.535354  10.399808   2.797275  24.617311   \n",
      "std    16.508557   4.886428   22.562075  10.712925   3.890100  17.542245   \n",
      "min    24.000000  18.370000   60.000000   2.432000   0.467409   4.311000   \n",
      "25%    44.000000  22.689062   85.000000   4.336500   0.898747  10.735800   \n",
      "50%    52.000000  26.669715   92.000000   5.819000   1.341324  18.160000   \n",
      "75%    69.000000  30.810069  101.500000  12.233500   2.940886  34.085000   \n",
      "max    89.000000  37.035608  201.000000  58.460000  25.050342  83.482100   \n",
      "\n",
      "       Adiponectin   Resistin        MCP.1  \n",
      "count    99.000000  99.000000    99.000000  \n",
      "mean     10.077993  15.401122   565.743545  \n",
      "std       6.602191  13.132669   356.784055  \n",
      "min       1.656020   3.210000    45.843000  \n",
      "25%       5.482135   6.885000   306.605000  \n",
      "50%       8.300955  11.500050   513.660000  \n",
      "75%      11.407612  20.100185   735.734500  \n",
      "max      38.040000  82.100000  1698.440000  \n"
     ]
    }
   ],
   "source": [
    "print(data1.describe())"
   ]
  },
  {
   "cell_type": "markdown",
   "metadata": {},
   "source": [
    "Check Dimensions"
   ]
  },
  {
   "cell_type": "code",
   "execution_count": 8,
   "metadata": {},
   "outputs": [
    {
     "name": "stdout",
     "output_type": "stream",
     "text": [
      "Dataset Dimensions: (99, 10)\n"
     ]
    }
   ],
   "source": [
    "print(\"Dataset Dimensions:\", data1.shape)"
   ]
  },
  {
   "cell_type": "markdown",
   "metadata": {},
   "source": [
    "Data Formatting and Normalization\n"
   ]
  },
  {
   "cell_type": "markdown",
   "metadata": {},
   "source": [
    "Summarize Variable Types"
   ]
  },
  {
   "cell_type": "code",
   "execution_count": 9,
   "metadata": {},
   "outputs": [
    {
     "name": "stdout",
     "output_type": "stream",
     "text": [
      "Age                 int64\n",
      "BMI               float64\n",
      "Glucose             int64\n",
      "Insulin           float64\n",
      "HOMA              float64\n",
      "Leptin            float64\n",
      "Adiponectin       float64\n",
      "Resistin          float64\n",
      "MCP.1             float64\n",
      "Classification     object\n",
      "dtype: object\n"
     ]
    }
   ],
   "source": [
    "print(data1.dtypes)"
   ]
  },
  {
   "cell_type": "markdown",
   "metadata": {},
   "source": [
    "Convert Incorrect Data Types"
   ]
  },
  {
   "cell_type": "code",
   "execution_count": 10,
   "metadata": {},
   "outputs": [],
   "source": [
    "data1['BMI'] = data1['BMI'].astype('category')\n"
   ]
  },
  {
   "cell_type": "markdown",
   "metadata": {},
   "source": [
    "Normalize Numeric Data"
   ]
  },
  {
   "cell_type": "markdown",
   "metadata": {},
   "source": [
    "Turn Categorical Variables into Quantitative Variables"
   ]
  },
  {
   "cell_type": "code",
   "execution_count": 16,
   "metadata": {},
   "outputs": [
    {
     "name": "stdout",
     "output_type": "stream",
     "text": [
      "   Age   BMI  Glucose  Insulin  HOMA  Leptin  Adiponectin  Resistin  MCP.1  \\\n",
      "0  0.5  22.5       90     10.5   1.5     8.5         12.5       3.5    200   \n",
      "1  0.6  23.5       95     12.5   1.8     9.5         13.0       4.0    180   \n",
      "2  0.7  24.0       85     11.0   1.7     8.0         11.5       3.0    210   \n",
      "\n",
      "   Classification  \n",
      "0               0  \n",
      "1               1  \n",
      "2               0  \n"
     ]
    }
   ],
   "source": [
    "from sklearn.preprocessing import StandardScaler\n",
    "\n",
    "data = {\n",
    "    'Age': [0.5, 0.6, 0.7],\n",
    "    'BMI': [22.5, 23.5, 24.0],\n",
    "    'Glucose': [90, 95, 85],\n",
    "    'Insulin': [10.5, 12.5, 11.0],\n",
    "    'HOMA': [1.5, 1.8, 1.7],\n",
    "    'Leptin': [8.5, 9.5, 8.0],\n",
    "    'Adiponectin': [12.5, 13.0, 11.5],\n",
    "    'Resistin': [3.5, 4.0, 3.0],\n",
    "    'MCP.1': [200, 180, 210],\n",
    "    'Classification': ['Type1', 'Type2', 'Type1']\n",
    "}\n",
    "df = pd.DataFrame(data)\n",
    "df['Classification'] = df['Classification'].map({'Type1': 0, 'Type2': 1})\n",
    "\n",
    "print(df)"
   ]
  },
  {
   "cell_type": "code",
   "execution_count": null,
   "metadata": {},
   "outputs": [],
   "source": [
    "Normalize Numeric Data"
   ]
  },
  {
   "cell_type": "code",
   "execution_count": 17,
   "metadata": {},
   "outputs": [
    {
     "name": "stdout",
     "output_type": "stream",
     "text": [
      "        Age       BMI  Glucose  Insulin      HOMA   Leptin  Adiponectin  \\\n",
      "0 -0.492598 -0.682455       70    2.707 -0.601970   8.8071     9.702400   \n",
      "1  1.638304 -1.260434       92    3.115 -0.540093   8.8438     5.429285   \n",
      "2  1.577421 -0.759669       91    4.498 -0.461870  17.9393    22.432040   \n",
      "3  0.725060 -1.121155       77    3.226 -0.564424   9.8827     7.169560   \n",
      "4  1.820953 -1.173904       92    3.549 -0.514646   6.6994     4.819240   \n",
      "\n",
      "   Resistin    MCP.1 Classification  \n",
      "0   7.99585  417.114              1  \n",
      "1   4.06405  468.786              1  \n",
      "2   9.27715  554.697              1  \n",
      "3  12.76600  928.220              1  \n",
      "4  10.57635  773.920              1  \n"
     ]
    }
   ],
   "source": [
    "from sklearn.preprocessing import StandardScaler\n",
    "\n",
    "scaler = StandardScaler()\n",
    "numeric_columns = ['Age', 'BMI', 'HOMA']\n",
    "data1[numeric_columns] = scaler.fit_transform(data1[numeric_columns])\n",
    "\n",
    "print(data1.head())\n"
   ]
  },
  {
   "cell_type": "code",
   "execution_count": null,
   "metadata": {},
   "outputs": [],
   "source": []
  }
 ],
 "metadata": {
  "kernelspec": {
   "display_name": "Python 3 (ipykernel)",
   "language": "python",
   "name": "python3"
  },
  "language_info": {
   "codemirror_mode": {
    "name": "ipython",
    "version": 3
   },
   "file_extension": ".py",
   "mimetype": "text/x-python",
   "name": "python",
   "nbconvert_exporter": "python",
   "pygments_lexer": "ipython3",
   "version": "3.10.12"
  }
 },
 "nbformat": 4,
 "nbformat_minor": 4
}
